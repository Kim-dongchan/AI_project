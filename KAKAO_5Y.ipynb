{
  "nbformat": 4,
  "nbformat_minor": 0,
  "metadata": {
    "colab": {
      "name": "AI코딩 팀플과제.ipynb",
      "provenance": [],
      "collapsed_sections": []
    },
    "kernelspec": {
      "name": "python3",
      "display_name": "Python 3"
    }
  },
  "cells": [
    {
      "cell_type": "code",
      "metadata": {
        "id": "_MiK9h5pS8Kg"
      },
      "source": [
        "import pandas as pd #데이터 분석/처리 (csv 파일을 읽기 위함)\n",
        "import numpy as np #행렬 연산                     -> pandas/numpy 보통 함께 쓰인다.\n",
        "import matplotlib.pyplot as plt #데이터 시각화\n",
        "#keras -> 딥러닝 모델 작성\n",
        "from keras.models import Sequential #Sequential 모델사용\n",
        "from keras.layers import LSTM, Dropout, Dense, Activation\n",
        "import datetime"
      ],
      "execution_count": 64,
      "outputs": []
    },
    {
      "cell_type": "markdown",
      "metadata": {
        "id": "dqXMICdzYaeZ"
      },
      "source": [
        "Load Dataset"
      ]
    },
    {
      "cell_type": "code",
      "metadata": {
        "id": "Z8XHtY6JUKAK",
        "colab": {
          "base_uri": "https://localhost:8080/",
          "height": 194
        },
        "outputId": "c1a439eb-4e01-4b94-caaf-cc6414f44e24"
      },
      "source": [
        "data = pd.read_csv('KAKAO.KS_5y.csv') #네이버 5년 주식데이터(csv파일 로드 후, data변수에 넣기)\n",
        "data.head() #맨앞 5줄로 데이터 출력"
      ],
      "execution_count": 65,
      "outputs": [
        {
          "output_type": "execute_result",
          "data": {
            "text/html": [
              "<div>\n",
              "<style scoped>\n",
              "    .dataframe tbody tr th:only-of-type {\n",
              "        vertical-align: middle;\n",
              "    }\n",
              "\n",
              "    .dataframe tbody tr th {\n",
              "        vertical-align: top;\n",
              "    }\n",
              "\n",
              "    .dataframe thead th {\n",
              "        text-align: right;\n",
              "    }\n",
              "</style>\n",
              "<table border=\"1\" class=\"dataframe\">\n",
              "  <thead>\n",
              "    <tr style=\"text-align: right;\">\n",
              "      <th></th>\n",
              "      <th>Date</th>\n",
              "      <th>Open</th>\n",
              "      <th>High</th>\n",
              "      <th>Low</th>\n",
              "      <th>Close</th>\n",
              "      <th>Adj Close</th>\n",
              "      <th>Volume</th>\n",
              "    </tr>\n",
              "  </thead>\n",
              "  <tbody>\n",
              "    <tr>\n",
              "      <th>0</th>\n",
              "      <td>2015-06-10</td>\n",
              "      <td>118300</td>\n",
              "      <td>119600</td>\n",
              "      <td>115100</td>\n",
              "      <td>116000</td>\n",
              "      <td>115459.8828</td>\n",
              "      <td>639825</td>\n",
              "    </tr>\n",
              "    <tr>\n",
              "      <th>1</th>\n",
              "      <td>2015-06-11</td>\n",
              "      <td>117700</td>\n",
              "      <td>118500</td>\n",
              "      <td>114500</td>\n",
              "      <td>114500</td>\n",
              "      <td>113966.8750</td>\n",
              "      <td>464246</td>\n",
              "    </tr>\n",
              "    <tr>\n",
              "      <th>2</th>\n",
              "      <td>2015-06-12</td>\n",
              "      <td>113800</td>\n",
              "      <td>114700</td>\n",
              "      <td>109800</td>\n",
              "      <td>110800</td>\n",
              "      <td>110284.0938</td>\n",
              "      <td>669117</td>\n",
              "    </tr>\n",
              "    <tr>\n",
              "      <th>3</th>\n",
              "      <td>2015-06-15</td>\n",
              "      <td>109200</td>\n",
              "      <td>110500</td>\n",
              "      <td>105000</td>\n",
              "      <td>105600</td>\n",
              "      <td>105108.3125</td>\n",
              "      <td>639238</td>\n",
              "    </tr>\n",
              "    <tr>\n",
              "      <th>4</th>\n",
              "      <td>2015-06-16</td>\n",
              "      <td>105000</td>\n",
              "      <td>109600</td>\n",
              "      <td>99800</td>\n",
              "      <td>101700</td>\n",
              "      <td>101226.4688</td>\n",
              "      <td>1319340</td>\n",
              "    </tr>\n",
              "  </tbody>\n",
              "</table>\n",
              "</div>"
            ],
            "text/plain": [
              "         Date    Open    High     Low   Close    Adj Close   Volume\n",
              "0  2015-06-10  118300  119600  115100  116000  115459.8828   639825\n",
              "1  2015-06-11  117700  118500  114500  114500  113966.8750   464246\n",
              "2  2015-06-12  113800  114700  109800  110800  110284.0938   669117\n",
              "3  2015-06-15  109200  110500  105000  105600  105108.3125   639238\n",
              "4  2015-06-16  105000  109600   99800  101700  101226.4688  1319340"
            ]
          },
          "metadata": {
            "tags": []
          },
          "execution_count": 65
        }
      ]
    },
    {
      "cell_type": "markdown",
      "metadata": {
        "id": "km6LiBIhYcJU"
      },
      "source": [
        "Compute Mid Price"
      ]
    },
    {
      "cell_type": "code",
      "metadata": {
        "id": "jnhtyhc5Yffl"
      },
      "source": [
        "high_prices = data['High'].values #최상값\n",
        "low_prices = data['Low'].values #최하값\n",
        "mid_prices = (high_prices + low_prices) / 2  #중간값 "
      ],
      "execution_count": 66,
      "outputs": []
    },
    {
      "cell_type": "markdown",
      "metadata": {
        "id": "c8YyOEjfYtiP"
      },
      "source": [
        "Create Windows"
      ]
    },
    {
      "cell_type": "code",
      "metadata": {
        "id": "IWgeRdHJYs_O"
      },
      "source": [
        "seq_len = 50 #50일 데이터를 보고 다음날 값 예측 (LSTM 개념)\n",
        "sequence_length = seq_len + 1 #예측값에서 +1을 함\n",
        "\n",
        "result = [] # 리스트에 51개씩 값을 저장\n",
        "for index in range(len(mid_prices) - sequence_length):\n",
        "  result.append(mid_prices[index: index + sequence_length])"
      ],
      "execution_count": 67,
      "outputs": []
    },
    {
      "cell_type": "markdown",
      "metadata": {
        "id": "VsGD2P02aBDq"
      },
      "source": [
        "Normalize Data"
      ]
    },
    {
      "cell_type": "code",
      "metadata": {
        "id": "SnbNvvjjaD0r",
        "colab": {
          "base_uri": "https://localhost:8080/"
        },
        "outputId": "2fbd3f71-bc8d-4c7f-e774-f8bc86774e7e"
      },
      "source": [
        "normalized_data = [] #데이터 정규화 리스트\n",
        "for window in result: #데이터 정규화\n",
        "  normalized_window = [((float(p) / float(window[0])) -1 ) for p in window]\n",
        "  normalized_data.append(normalized_window)\n",
        "\n",
        "result = np.array(normalized_data)\n",
        "\n",
        "# 전체 데이터를 트레인 데이터와 테스트 데이터로 나눔.\n",
        "row = int(round(result.shape[0] * 0.9))\n",
        "train = result[:row, :]\n",
        "np.random.shuffle(train)\n",
        "\n",
        "x_train = train[:, :-1]#train셋에 전체데이터 90%\n",
        "x_train = np.reshape(x_train, (x_train.shape[0], x_train.shape[1],1))\n",
        "y_train = train[:, -1]\n",
        "\n",
        "x_test = result[row:, :-1] #test셋에 전체데이터 10%\n",
        "x_test = np.reshape(x_test, (x_test.shape[0], x_test.shape[1],1))\n",
        "y_test = result[row:, -1]\n",
        "\n",
        "x_train.shape, x_test.shape"
      ],
      "execution_count": 68,
      "outputs": [
        {
          "output_type": "execute_result",
          "data": {
            "text/plain": [
              "((1055, 50, 1), (117, 50, 1))"
            ]
          },
          "metadata": {
            "tags": []
          },
          "execution_count": 68
        }
      ]
    },
    {
      "cell_type": "markdown",
      "metadata": {
        "id": "Yzp82T67jVC7"
      },
      "source": [
        "Build a Model"
      ]
    },
    {
      "cell_type": "code",
      "metadata": {
        "id": "cnp27pmIjX-y",
        "colab": {
          "base_uri": "https://localhost:8080/"
        },
        "outputId": "5fac7970-d7db-49e5-90eb-c2b93bbb1707"
      },
      "source": [
        "model = Sequential() #모델 순차적 정의\n",
        "\n",
        "model.add(LSTM(50, return_sequences=True, input_shape=(50,1)))\n",
        "\n",
        "model.add(LSTM(64, return_sequences=False))\n",
        "\n",
        "model.add(Dense(1, activation='linear')) #다음날 하루의 데이터를 예측\n",
        "\n",
        "model.compile(loss='mse', optimizer='rmsprop') # ms(손실함수) - > mean squared error\n",
        "\n",
        "model.summary() #모델의 개요를 출력"
      ],
      "execution_count": 69,
      "outputs": [
        {
          "output_type": "stream",
          "text": [
            "Model: \"sequential_1\"\n",
            "_________________________________________________________________\n",
            "Layer (type)                 Output Shape              Param #   \n",
            "=================================================================\n",
            "lstm_2 (LSTM)                (None, 50, 50)            10400     \n",
            "_________________________________________________________________\n",
            "lstm_3 (LSTM)                (None, 64)                29440     \n",
            "_________________________________________________________________\n",
            "dense_1 (Dense)              (None, 1)                 65        \n",
            "=================================================================\n",
            "Total params: 39,905\n",
            "Trainable params: 39,905\n",
            "Non-trainable params: 0\n",
            "_________________________________________________________________\n"
          ],
          "name": "stdout"
        }
      ]
    },
    {
      "cell_type": "markdown",
      "metadata": {
        "id": "oncmydpOj0sy"
      },
      "source": [
        "Training"
      ]
    },
    {
      "cell_type": "code",
      "metadata": {
        "id": "PyCrLldbj2Jz",
        "colab": {
          "base_uri": "https://localhost:8080/"
        },
        "outputId": "e0981a7f-b537-493c-91ef-a3f305ee1bdc"
      },
      "source": [
        "# .fit -> 학습을 시킨다.\n",
        "model.fit(x_train, y_train, validation_data=(x_test, y_test),\n",
        "          batch_size=10, epochs=20) #10개씩 묶어서 학습을 20번 반복 학습."
      ],
      "execution_count": 70,
      "outputs": [
        {
          "output_type": "stream",
          "text": [
            "Epoch 1/20\n",
            "106/106 [==============================] - 5s 49ms/step - loss: 0.0023 - val_loss: 0.0030\n",
            "Epoch 2/20\n",
            "106/106 [==============================] - 4s 42ms/step - loss: 0.0012 - val_loss: 0.0029\n",
            "Epoch 3/20\n",
            "106/106 [==============================] - 4s 41ms/step - loss: 8.2197e-04 - val_loss: 0.0023\n",
            "Epoch 4/20\n",
            "106/106 [==============================] - 4s 40ms/step - loss: 6.3602e-04 - val_loss: 0.0011\n",
            "Epoch 5/20\n",
            "106/106 [==============================] - 4s 40ms/step - loss: 5.1297e-04 - val_loss: 0.0012\n",
            "Epoch 6/20\n",
            "106/106 [==============================] - 4s 40ms/step - loss: 4.5230e-04 - val_loss: 7.7377e-04\n",
            "Epoch 7/20\n",
            "106/106 [==============================] - 4s 40ms/step - loss: 4.1749e-04 - val_loss: 8.5034e-04\n",
            "Epoch 8/20\n",
            "106/106 [==============================] - 4s 40ms/step - loss: 4.0689e-04 - val_loss: 7.3146e-04\n",
            "Epoch 9/20\n",
            "106/106 [==============================] - 4s 41ms/step - loss: 4.0015e-04 - val_loss: 6.9734e-04\n",
            "Epoch 10/20\n",
            "106/106 [==============================] - 5s 42ms/step - loss: 3.7391e-04 - val_loss: 0.0011\n",
            "Epoch 11/20\n",
            "106/106 [==============================] - 4s 41ms/step - loss: 3.8283e-04 - val_loss: 7.5931e-04\n",
            "Epoch 12/20\n",
            "106/106 [==============================] - 5s 44ms/step - loss: 3.8330e-04 - val_loss: 8.5347e-04\n",
            "Epoch 13/20\n",
            "106/106 [==============================] - 4s 41ms/step - loss: 3.8058e-04 - val_loss: 8.9513e-04\n",
            "Epoch 14/20\n",
            "106/106 [==============================] - 4s 42ms/step - loss: 3.7335e-04 - val_loss: 8.0979e-04\n",
            "Epoch 15/20\n",
            "106/106 [==============================] - 4s 41ms/step - loss: 3.6197e-04 - val_loss: 9.2269e-04\n",
            "Epoch 16/20\n",
            "106/106 [==============================] - 4s 41ms/step - loss: 3.6719e-04 - val_loss: 7.4562e-04\n",
            "Epoch 17/20\n",
            "106/106 [==============================] - 4s 42ms/step - loss: 3.7300e-04 - val_loss: 7.6042e-04\n",
            "Epoch 18/20\n",
            "106/106 [==============================] - 4s 41ms/step - loss: 3.7256e-04 - val_loss: 7.6595e-04\n",
            "Epoch 19/20\n",
            "106/106 [==============================] - 4s 41ms/step - loss: 3.5868e-04 - val_loss: 8.5314e-04\n",
            "Epoch 20/20\n",
            "106/106 [==============================] - 4s 40ms/step - loss: 3.5215e-04 - val_loss: 0.0010\n"
          ],
          "name": "stdout"
        },
        {
          "output_type": "execute_result",
          "data": {
            "text/plain": [
              "<tensorflow.python.keras.callbacks.History at 0x7f111b5067b8>"
            ]
          },
          "metadata": {
            "tags": []
          },
          "execution_count": 70
        }
      ]
    },
    {
      "cell_type": "markdown",
      "metadata": {
        "id": "Si5HOO4ckjOw"
      },
      "source": [
        "Prediction"
      ]
    },
    {
      "cell_type": "code",
      "metadata": {
        "id": "1Vi0bOv7kilf",
        "colab": {
          "base_uri": "https://localhost:8080/",
          "height": 592
        },
        "outputId": "b90619c9-ce41-417b-96b4-7b704ba39bc4"
      },
      "source": [
        "pred = model.predict(x_test) #모델을 사용하여 예측\n",
        "\n",
        "fig = plt.figure(facecolor='white', figsize=(20,10))\n",
        "ax = fig.add_subplot(111)\n",
        "ax.plot(y_test, label='True') #실제데이터\n",
        "ax.plot(pred, label='Prediction') #예측데이터\n",
        "ax.legend()\n",
        "plt.show()"
      ],
      "execution_count": 71,
      "outputs": [
        {
          "output_type": "display_data",
          "data": {
            "image/png": "[encoded data removed]",
            "text/plain": [
              "<Figure size 1440x720 with 1 Axes>"
            ]
          },
          "metadata": {
            "tags": []
          }
        }
      ]
    }
  ]
}