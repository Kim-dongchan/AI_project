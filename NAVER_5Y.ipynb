{
  "nbformat": 4,
  "nbformat_minor": 0,
  "metadata": {
    "colab": {
      "name": "AI코딩 팀플과제.ipynb",
      "provenance": [],
      "collapsed_sections": []
    },
    "kernelspec": {
      "name": "python3",
      "display_name": "Python 3"
    }
  },
  "cells": [
    {
      "cell_type": "code",
      "metadata": {
        "id": "_MiK9h5pS8Kg"
      },
      "source": [
        "import pandas as pd #데이터 분석/처리 (csv 파일을 읽기 위함)\n",
        "import numpy as np #행렬 연산                     -> pandas/numpy 보통 함께 쓰인다.\n",
        "import matplotlib.pyplot as plt #데이터 시각화\n",
        "#keras -> 딥러닝 모델 작성\n",
        "from keras.models import Sequential #Sequential 모델사용\n",
        "from keras.layers import LSTM, Dropout, Dense, Activation\n",
        "import datetime"
      ],
      "execution_count": 75,
      "outputs": []
    },
    {
      "cell_type": "markdown",
      "metadata": {
        "id": "dqXMICdzYaeZ"
      },
      "source": [
        "Load Dataset"
      ]
    },
    {
      "cell_type": "code",
      "metadata": {
        "id": "Z8XHtY6JUKAK",
        "colab": {
          "base_uri": "https://localhost:8080/",
          "height": 194
        },
        "outputId": "0793f8f8-2778-406e-d90f-9a80f44902d3"
      },
      "source": [
        "data = pd.read_csv('NAVER.KS_5Y.csv') #네이버 5년 주식데이터(csv파일 로드 후, data변수에 넣기)\n",
        "data.head() #맨앞 5줄로 데이터 출력"
      ],
      "execution_count": 76,
      "outputs": [
        {
          "output_type": "execute_result",
          "data": {
            "text/html": [
              "<div>\n",
              "<style scoped>\n",
              "    .dataframe tbody tr th:only-of-type {\n",
              "        vertical-align: middle;\n",
              "    }\n",
              "\n",
              "    .dataframe tbody tr th {\n",
              "        vertical-align: top;\n",
              "    }\n",
              "\n",
              "    .dataframe thead th {\n",
              "        text-align: right;\n",
              "    }\n",
              "</style>\n",
              "<table border=\"1\" class=\"dataframe\">\n",
              "  <thead>\n",
              "    <tr style=\"text-align: right;\">\n",
              "      <th></th>\n",
              "      <th>Date</th>\n",
              "      <th>Open</th>\n",
              "      <th>High</th>\n",
              "      <th>Low</th>\n",
              "      <th>Close</th>\n",
              "      <th>Adj Close</th>\n",
              "      <th>Volume</th>\n",
              "    </tr>\n",
              "  </thead>\n",
              "  <tbody>\n",
              "    <tr>\n",
              "      <th>0</th>\n",
              "      <td>2015-06-10</td>\n",
              "      <td>119800</td>\n",
              "      <td>119800</td>\n",
              "      <td>113600</td>\n",
              "      <td>113600</td>\n",
              "      <td>110582.8750</td>\n",
              "      <td>447735</td>\n",
              "    </tr>\n",
              "    <tr>\n",
              "      <th>1</th>\n",
              "      <td>2015-06-11</td>\n",
              "      <td>115000</td>\n",
              "      <td>117800</td>\n",
              "      <td>113200</td>\n",
              "      <td>113200</td>\n",
              "      <td>110193.5000</td>\n",
              "      <td>1153350</td>\n",
              "    </tr>\n",
              "    <tr>\n",
              "      <th>2</th>\n",
              "      <td>2015-06-12</td>\n",
              "      <td>114800</td>\n",
              "      <td>120600</td>\n",
              "      <td>114600</td>\n",
              "      <td>120200</td>\n",
              "      <td>117007.5938</td>\n",
              "      <td>1236155</td>\n",
              "    </tr>\n",
              "    <tr>\n",
              "      <th>3</th>\n",
              "      <td>2015-06-15</td>\n",
              "      <td>121400</td>\n",
              "      <td>125600</td>\n",
              "      <td>121400</td>\n",
              "      <td>125400</td>\n",
              "      <td>122069.4766</td>\n",
              "      <td>1653685</td>\n",
              "    </tr>\n",
              "    <tr>\n",
              "      <th>4</th>\n",
              "      <td>2015-06-16</td>\n",
              "      <td>125600</td>\n",
              "      <td>126800</td>\n",
              "      <td>123200</td>\n",
              "      <td>125400</td>\n",
              "      <td>122069.4766</td>\n",
              "      <td>785550</td>\n",
              "    </tr>\n",
              "  </tbody>\n",
              "</table>\n",
              "</div>"
            ],
            "text/plain": [
              "         Date    Open    High     Low   Close    Adj Close   Volume\n",
              "0  2015-06-10  119800  119800  113600  113600  110582.8750   447735\n",
              "1  2015-06-11  115000  117800  113200  113200  110193.5000  1153350\n",
              "2  2015-06-12  114800  120600  114600  120200  117007.5938  1236155\n",
              "3  2015-06-15  121400  125600  121400  125400  122069.4766  1653685\n",
              "4  2015-06-16  125600  126800  123200  125400  122069.4766   785550"
            ]
          },
          "metadata": {
            "tags": []
          },
          "execution_count": 76
        }
      ]
    },
    {
      "cell_type": "markdown",
      "metadata": {
        "id": "km6LiBIhYcJU"
      },
      "source": [
        "Compute Mid Price"
      ]
    },
    {
      "cell_type": "code",
      "metadata": {
        "id": "jnhtyhc5Yffl"
      },
      "source": [
        "high_prices = data['High'].values #최상값\n",
        "low_prices = data['Low'].values #최하값\n",
        "mid_prices = (high_prices + low_prices) / 2  #중간값 "
      ],
      "execution_count": 77,
      "outputs": []
    },
    {
      "cell_type": "markdown",
      "metadata": {
        "id": "c8YyOEjfYtiP"
      },
      "source": [
        "Create Windows"
      ]
    },
    {
      "cell_type": "code",
      "metadata": {
        "id": "IWgeRdHJYs_O"
      },
      "source": [
        "seq_len = 50 #50일 데이터를 보고 다음날 값 예측 (LSTM 개념)\n",
        "sequence_length = seq_len + 1 #예측값에서 +1을 함\n",
        "\n",
        "result = [] # 리스트에 51개씩 값을 저장\n",
        "for index in range(len(mid_prices) - sequence_length):\n",
        "  result.append(mid_prices[index: index + sequence_length])"
      ],
      "execution_count": 78,
      "outputs": []
    },
    {
      "cell_type": "markdown",
      "metadata": {
        "id": "VsGD2P02aBDq"
      },
      "source": [
        "Normalize Data"
      ]
    },
    {
      "cell_type": "code",
      "metadata": {
        "id": "SnbNvvjjaD0r",
        "colab": {
          "base_uri": "https://localhost:8080/"
        },
        "outputId": "b46b5285-bc19-4a3f-988e-849f4ad7c23c"
      },
      "source": [
        "normalized_data = [] #데이터 정규화 리스트\n",
        "for window in result: #데이터 정규화\n",
        "  normalized_window = [((float(p) / float(window[0])) -1 ) for p in window]\n",
        "  normalized_data.append(normalized_window)\n",
        "\n",
        "result = np.array(normalized_data)\n",
        "\n",
        "# 전체 데이터를 트레인 데이터와 테스트 데이터로 나눔.\n",
        "row = int(round(result.shape[0] * 0.9))\n",
        "train = result[:row, :]\n",
        "np.random.shuffle(train)\n",
        "\n",
        "x_train = train[:, :-1]#train셋에 전체데이터 90%\n",
        "x_train = np.reshape(x_train, (x_train.shape[0], x_train.shape[1],1))\n",
        "y_train = train[:, -1]\n",
        "\n",
        "x_test = result[row:, :-1] #test셋에 전체데이터 10%\n",
        "x_test = np.reshape(x_test, (x_test.shape[0], x_test.shape[1],1))\n",
        "y_test = result[row:, -1]\n",
        "\n",
        "x_train.shape, x_test.shape"
      ],
      "execution_count": 79,
      "outputs": [
        {
          "output_type": "execute_result",
          "data": {
            "text/plain": [
              "((1054, 50, 1), (117, 50, 1))"
            ]
          },
          "metadata": {
            "tags": []
          },
          "execution_count": 79
        }
      ]
    },
    {
      "cell_type": "markdown",
      "metadata": {
        "id": "Yzp82T67jVC7"
      },
      "source": [
        "Build a Model"
      ]
    },
    {
      "cell_type": "code",
      "metadata": {
        "id": "cnp27pmIjX-y",
        "colab": {
          "base_uri": "https://localhost:8080/"
        },
        "outputId": "2cd8d763-7c8f-4ac9-e954-ac0da08225a3"
      },
      "source": [
        "model = Sequential() #모델 순차적 정의\n",
        "\n",
        "model.add(LSTM(50, return_sequences=True, input_shape=(50,1)))\n",
        "\n",
        "model.add(LSTM(64, return_sequences=False))\n",
        "\n",
        "model.add(Dense(1, activation='linear')) #다음날 하루의 데이터를 예측\n",
        "\n",
        "model.compile(loss='mse', optimizer='rmsprop') # ms(손실함수) - > mean squared error\n",
        "\n",
        "model.summary() #모델의 개요를 출력"
      ],
      "execution_count": 80,
      "outputs": [
        {
          "output_type": "stream",
          "text": [
            "Model: \"sequential_2\"\n",
            "_________________________________________________________________\n",
            "Layer (type)                 Output Shape              Param #   \n",
            "=================================================================\n",
            "lstm_4 (LSTM)                (None, 50, 50)            10400     \n",
            "_________________________________________________________________\n",
            "lstm_5 (LSTM)                (None, 64)                29440     \n",
            "_________________________________________________________________\n",
            "dense_2 (Dense)              (None, 1)                 65        \n",
            "=================================================================\n",
            "Total params: 39,905\n",
            "Trainable params: 39,905\n",
            "Non-trainable params: 0\n",
            "_________________________________________________________________\n"
          ],
          "name": "stdout"
        }
      ]
    },
    {
      "cell_type": "markdown",
      "metadata": {
        "id": "oncmydpOj0sy"
      },
      "source": [
        "Training"
      ]
    },
    {
      "cell_type": "code",
      "metadata": {
        "id": "PyCrLldbj2Jz",
        "colab": {
          "base_uri": "https://localhost:8080/"
        },
        "outputId": "4f0cab22-8fe6-42f5-b649-5a97406d7a74"
      },
      "source": [
        "# .fit -> 학습을 시킨다.\n",
        "model.fit(x_train, y_train, validation_data=(x_test, y_test),\n",
        "          batch_size=10, epochs=20) #10개씩 묶어서 학습을 20번 반복 학습."
      ],
      "execution_count": 81,
      "outputs": [
        {
          "output_type": "stream",
          "text": [
            "Epoch 1/20\n",
            "106/106 [==============================] - 5s 46ms/step - loss: 0.0018 - val_loss: 0.0018\n",
            "Epoch 2/20\n",
            "106/106 [==============================] - 4s 40ms/step - loss: 9.2474e-04 - val_loss: 0.0029\n",
            "Epoch 3/20\n",
            "106/106 [==============================] - 4s 42ms/step - loss: 7.1296e-04 - val_loss: 0.0014\n",
            "Epoch 4/20\n",
            "106/106 [==============================] - 4s 40ms/step - loss: 5.3709e-04 - val_loss: 8.5622e-04\n",
            "Epoch 5/20\n",
            "106/106 [==============================] - 5s 43ms/step - loss: 4.5843e-04 - val_loss: 9.0608e-04\n",
            "Epoch 6/20\n",
            "106/106 [==============================] - 4s 41ms/step - loss: 4.1175e-04 - val_loss: 7.9236e-04\n",
            "Epoch 7/20\n",
            "106/106 [==============================] - 4s 42ms/step - loss: 3.6650e-04 - val_loss: 5.4772e-04\n",
            "Epoch 8/20\n",
            "106/106 [==============================] - 4s 41ms/step - loss: 3.1680e-04 - val_loss: 8.8367e-04\n",
            "Epoch 9/20\n",
            "106/106 [==============================] - 4s 41ms/step - loss: 3.2092e-04 - val_loss: 5.9772e-04\n",
            "Epoch 10/20\n",
            "106/106 [==============================] - 4s 41ms/step - loss: 3.0799e-04 - val_loss: 7.2249e-04\n",
            "Epoch 11/20\n",
            "106/106 [==============================] - 4s 41ms/step - loss: 3.1231e-04 - val_loss: 7.6039e-04\n",
            "Epoch 12/20\n",
            "106/106 [==============================] - 4s 41ms/step - loss: 3.0719e-04 - val_loss: 9.4237e-04\n",
            "Epoch 13/20\n",
            "106/106 [==============================] - 4s 42ms/step - loss: 3.0341e-04 - val_loss: 6.2772e-04\n",
            "Epoch 14/20\n",
            "106/106 [==============================] - 4s 41ms/step - loss: 3.2014e-04 - val_loss: 8.4760e-04\n",
            "Epoch 15/20\n",
            "106/106 [==============================] - 4s 41ms/step - loss: 3.0566e-04 - val_loss: 6.1370e-04\n",
            "Epoch 16/20\n",
            "106/106 [==============================] - 5s 44ms/step - loss: 3.1259e-04 - val_loss: 6.7473e-04\n",
            "Epoch 17/20\n",
            "106/106 [==============================] - 5s 47ms/step - loss: 2.8374e-04 - val_loss: 5.9140e-04\n",
            "Epoch 18/20\n",
            "106/106 [==============================] - 4s 41ms/step - loss: 3.0564e-04 - val_loss: 6.0537e-04\n",
            "Epoch 19/20\n",
            "106/106 [==============================] - 4s 42ms/step - loss: 3.0405e-04 - val_loss: 7.9694e-04\n",
            "Epoch 20/20\n",
            "106/106 [==============================] - 5s 44ms/step - loss: 3.0214e-04 - val_loss: 6.5289e-04\n"
          ],
          "name": "stdout"
        },
        {
          "output_type": "execute_result",
          "data": {
            "text/plain": [
              "<tensorflow.python.keras.callbacks.History at 0x7f11177fddd8>"
            ]
          },
          "metadata": {
            "tags": []
          },
          "execution_count": 81
        }
      ]
    },
    {
      "cell_type": "markdown",
      "metadata": {
        "id": "Si5HOO4ckjOw"
      },
      "source": [
        "Prediction"
      ]
    },
    {
      "cell_type": "code",
      "metadata": {
        "id": "1Vi0bOv7kilf",
        "colab": {
          "base_uri": "https://localhost:8080/",
          "height": 592
        },
        "outputId": "2cbde942-bb75-4100-957b-66938a7b0eee"
      },
      "source": [
        "pred = model.predict(x_test) #모델을 사용하여 예측\n",
        "\n",
        "fig = plt.figure(facecolor='white', figsize=(20,10))\n",
        "ax = fig.add_subplot(111)\n",
        "ax.plot(y_test, label='True') #실제데이터\n",
        "ax.plot(pred, label='Prediction') #예측데이터\n",
        "ax.legend()\n",
        "plt.show()"
      ],
      "execution_count": 83,
      "outputs": [
        {
          "output_type": "display_data",
          "data": {
            "image/png": "[encoded data removed]",
            "text/plain": [
              "<Figure size 1440x720 with 1 Axes>"
            ]
          },
          "metadata": {
            "tags": []
          }
        }
      ]
    }
  ]
}